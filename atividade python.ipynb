{
 "cells": [
  {
   "cell_type": "code",
   "execution_count": 1,
   "metadata": {},
   "outputs": [],
   "source": [
    "num1 = int(input(\"Digite um número inteiro\"))\n",
    "num2 = int(input(\"Digite outro número inteiro\"))\n",
    "num_real = float(input(\"Digite um número real: \"))"
   ]
  },
  {
   "cell_type": "code",
   "execution_count": 2,
   "metadata": {},
   "outputs": [
    {
     "name": "stdout",
     "output_type": "stream",
     "text": [
      "O produto do dobro do primeiro número com metade do segundo é: 6.0\n"
     ]
    }
   ],
   "source": [
    "# Calcula o produto do dobro do primeiro número com metade do segundo\n",
    "resultado = (2 * num1) * (num2 / 2)\n",
    "print(f\"O produto do dobro do primeiro número com metade do segundo é: {resultado}\")"
   ]
  },
  {
   "cell_type": "code",
   "execution_count": 3,
   "metadata": {},
   "outputs": [
    {
     "name": "stdout",
     "output_type": "stream",
     "text": [
      "97.125\n"
     ]
    }
   ],
   "source": [
    "# Calcula a soma do triplo do primeiro número com o terceiro\n",
    "soma = (3 * num1) + (num_real**3)\n",
    "print(soma)"
   ]
  },
  {
   "cell_type": "code",
   "execution_count": 4,
   "metadata": {},
   "outputs": [
    {
     "name": "stdout",
     "output_type": "stream",
     "text": [
      "O maior número é: 5.0\n"
     ]
    }
   ],
   "source": [
    "num1 = float(input(\"Digite o primeiro número: \"))\n",
    "num2 = float(input(\"Digite o segundo número: \"))\n",
    "if num1 > num2:\n",
    "    maior = num1\n",
    "else:\n",
    "    maior = num2\n",
    "print(\"O maior número é:\", maior)"
   ]
  },
  {
   "cell_type": "code",
   "execution_count": 5,
   "metadata": {},
   "outputs": [
    {
     "name": "stdout",
     "output_type": "stream",
     "text": [
      "O valor é zero.\n"
     ]
    }
   ],
   "source": [
    "valor = float(input(\"Digite um valor: \"))\n",
    "if valor > 0:\n",
    "    print(\"O valor é positivo.\")\n",
    "elif valor < 0:\n",
    "    print(\"O valor é negativo.\")\n",
    "else:\n",
    "    print(\"O valor é zero.\")"
   ]
  },
  {
   "cell_type": "code",
   "execution_count": 6,
   "metadata": {},
   "outputs": [
    {
     "name": "stdout",
     "output_type": "stream",
     "text": [
      "A média do aluno é: 2.50\n",
      "Situação: Reprovado\n"
     ]
    }
   ],
   "source": [
    "nota1 = float(input(\"Digite a primeira nota: \"))\n",
    "nota2 = float(input(\"Digite a segunda nota: \"))\n",
    "\n",
    "media = (nota1 + nota2) / 2\n",
    "\n",
    "if media >= 7.0:\n",
    "    situacao = \"Aprovado\"\n",
    "else:\n",
    "    situacao = \"Reprovado\"\n",
    "\n",
    "print(f\"A média do aluno é: {media:.2f}\")\n",
    "print(f\"Situação: {situacao}\")"
   ]
  },
  {
   "cell_type": "code",
   "execution_count": 7,
   "metadata": {},
   "outputs": [
    {
     "name": "stdout",
     "output_type": "stream",
     "text": [
      "O maior número é: 5.0\n"
     ]
    }
   ],
   "source": [
    "num1 = float(input(\"Digite o primeiro número: \"))\n",
    "num2 = float(input(\"Digite o segundo número: \"))\n",
    "num3 = float(input(\"Digite o terceiro número: \"))\n",
    "\n",
    "if num1 >= num2 and num1 >= num3:\n",
    "    maior = num1\n",
    "elif num2 >= num1 and num2 >= num3:\n",
    "    maior = num2\n",
    "else:\n",
    "    maior = num3\n",
    "\n",
    "print(\"O maior número é:\", maior)"
   ]
  }
 ],
 "metadata": {
  "kernelspec": {
   "display_name": "Python 3",
   "language": "python",
   "name": "python3"
  },
  "language_info": {
   "codemirror_mode": {
    "name": "ipython",
    "version": 3
   },
   "file_extension": ".py",
   "mimetype": "text/x-python",
   "name": "python",
   "nbconvert_exporter": "python",
   "pygments_lexer": "ipython3",
   "version": "3.12.2"
  }
 },
 "nbformat": 4,
 "nbformat_minor": 2
}
